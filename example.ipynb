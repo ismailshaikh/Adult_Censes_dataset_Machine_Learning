{
 "cells": [
  {
   "cell_type": "code",
   "execution_count": null,
   "metadata": {},
   "outputs": [],
   "source": []
  }
 ],
 "metadata": {
  "kernelspec": {
   "display_name": "Python 3.7.0 (conda)",
   "language": "python",
   "name": "python3"
  },
  "language_info": {
   "name": "python",
   "version": "3.7.0"
  },
  "orig_nbformat": 4,
  "vscode": {
   "interpreter": {
    "hash": "bdf35b7d7b69dd7bf9efeecde95b7b00583bbb810cf6737d965f19a00b5047ba"
   }
  }
 },
 "nbformat": 4,
 "nbformat_minor": 2
}
